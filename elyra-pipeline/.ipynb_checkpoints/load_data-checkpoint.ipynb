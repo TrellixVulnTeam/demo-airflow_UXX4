{
 "cells": [
  {
   "cell_type": "markdown",
   "id": "27b31998",
   "metadata": {
    "papermill": {
     "duration": 0.004313,
     "end_time": "2021-05-17T10:10:25.750813",
     "exception": false,
     "start_time": "2021-05-17T10:10:25.746500",
     "status": "completed"
    },
    "tags": []
   },
   "source": [
    "## Download a data set\n",
    "\n",
    "This notebook downloads a data set file from a public location. If the data set file is a compressed archive it will be decompressed. Upon completion the raw data set files  are located in the `data\\` directory.\n",
    "\n",
    "This notebook requires the following environment variables:\n",
    " -  `DATASET_URL` Public data set URL, e.g. `https://dax-cdn.cdn.appdomain.cloud/dax-fashion-mnist/1.0.2/fashion-mnist.tar.gz`"
   ]
  },
  {
   "cell_type": "code",
   "execution_count": 1,
   "id": "56ca05ee",
   "metadata": {
    "execution": {
     "iopub.execute_input": "2021-05-17T10:10:25.764169Z",
     "iopub.status.busy": "2021-05-17T10:10:25.763812Z",
     "iopub.status.idle": "2021-05-17T10:10:25.807388Z",
     "shell.execute_reply": "2021-05-17T10:10:25.807682Z"
    },
    "papermill": {
     "duration": 0.053163,
     "end_time": "2021-05-17T10:10:25.807856",
     "exception": false,
     "start_time": "2021-05-17T10:10:25.754693",
     "status": "completed"
    },
    "tags": []
   },
   "outputs": [],
   "source": [
    "import glob\n",
    "import json\n",
    "import os\n",
    "from pathlib import Path\n",
    "import requests\n",
    "import tarfile\n",
    "from urllib.parse import urlparse"
   ]
  },
  {
   "cell_type": "markdown",
   "id": "1015fafc",
   "metadata": {
    "papermill": {
     "duration": 0.003872,
     "end_time": "2021-05-17T10:10:25.815504",
     "exception": false,
     "start_time": "2021-05-17T10:10:25.811632",
     "status": "completed"
    },
    "tags": []
   },
   "source": [
    "Verify that the `DATASET_URL` environment variable is set. If it is not set, a RuntimeError is raised."
   ]
  },
  {
   "cell_type": "code",
   "execution_count": 2,
   "id": "a25cac5e",
   "metadata": {
    "execution": {
     "iopub.execute_input": "2021-05-17T10:10:25.825579Z",
     "iopub.status.busy": "2021-05-17T10:10:25.825222Z",
     "iopub.status.idle": "2021-05-17T10:10:25.827567Z",
     "shell.execute_reply": "2021-05-17T10:10:25.827259Z"
    },
    "papermill": {
     "duration": 0.008403,
     "end_time": "2021-05-17T10:10:25.827655",
     "exception": false,
     "start_time": "2021-05-17T10:10:25.819252",
     "status": "completed"
    },
    "tags": []
   },
   "outputs": [],
   "source": [
    "data_file = os.getenv('DATASET_URL',\n",
    "                      'https://dax-cdn.cdn.appdomain.cloud/'\n",
    "                      'dax-noaa-weather-data-jfk-airport/1.1.4/'\n",
    "                      'noaa-weather-data-jfk-airport.tar.gz')"
   ]
  },
  {
   "cell_type": "markdown",
   "id": "4adcdc93",
   "metadata": {
    "papermill": {
     "duration": 0.004222,
     "end_time": "2021-05-17T10:10:25.835909",
     "exception": false,
     "start_time": "2021-05-17T10:10:25.831687",
     "status": "completed"
    },
    "tags": []
   },
   "source": [
    "Download the data set from the location specified in `dataset_url`, extract it (if it is compressed) and store it in the directory identified by `data_dir_name`."
   ]
  },
  {
   "cell_type": "code",
   "execution_count": 3,
   "id": "76ca8235",
   "metadata": {
    "execution": {
     "iopub.execute_input": "2021-05-17T10:10:25.848324Z",
     "iopub.status.busy": "2021-05-17T10:10:25.847934Z",
     "iopub.status.idle": "2021-05-17T10:10:33.964390Z",
     "shell.execute_reply": "2021-05-17T10:10:33.964028Z"
    },
    "papermill": {
     "duration": 8.124737,
     "end_time": "2021-05-17T10:10:33.964476",
     "exception": false,
     "start_time": "2021-05-17T10:10:25.839739",
     "status": "completed"
    },
    "tags": []
   },
   "outputs": [
    {
     "name": "stdout",
     "output_type": "stream",
     "text": [
      "Downloading data file https://dax-cdn.cdn.appdomain.cloud/dax-noaa-weather-data-jfk-airport/1.1.4/noaa-weather-data-jfk-airport.tar.gz ...\n"
     ]
    },
    {
     "name": "stdout",
     "output_type": "stream",
     "text": [
      "Saving downloaded file \"noaa-weather-data-jfk-airport.tar.gz\" as ...\n",
      "Extracting downloaded file in directory \"data\" ...\n",
      "Removing downloaded file ...\n"
     ]
    }
   ],
   "source": [
    "data_dir_name = 'data'\n",
    "\n",
    "print('Downloading data file {} ...'.format(data_file))\n",
    "r = requests.get(data_file)\n",
    "if r.status_code != 200:\n",
    "    raise RuntimeError('Could not fetch {}: HTTP status code {}'\n",
    "                       .format(data_file, r.status_code))\n",
    "else:\n",
    "    # extract data set file name from URL\n",
    "    data_file_name = Path((urlparse(data_file).path)).name\n",
    "    # create the directory where the downloaded file will be stored\n",
    "    data_dir = Path(data_dir_name)\n",
    "    data_dir.mkdir(parents=True, exist_ok=True)\n",
    "    downloaded_data_file = data_dir / data_file_name\n",
    "\n",
    "    print('Saving downloaded file \"{}\" as ...'.format(data_file_name))\n",
    "    with open(downloaded_data_file, 'wb') as downloaded_file:\n",
    "        downloaded_file.write(r.content)\n",
    "\n",
    "    if r.headers['content-type'] == 'application/x-tar':\n",
    "        print('Extracting downloaded file in directory \"{}\" ...'\n",
    "              .format(data_dir))\n",
    "        with tarfile.open(downloaded_data_file, 'r') as tar:\n",
    "            tar.extractall(data_dir)\n",
    "        print('Removing downloaded file ...')\n",
    "        downloaded_data_file.unlink()"
   ]
  },
  {
   "cell_type": "markdown",
   "id": "d2a1c998",
   "metadata": {
    "papermill": {
     "duration": 0.004357,
     "end_time": "2021-05-17T10:10:33.973476",
     "exception": false,
     "start_time": "2021-05-17T10:10:33.969119",
     "status": "completed"
    },
    "tags": []
   },
   "source": [
    "Display list of extracted data files"
   ]
  },
  {
   "cell_type": "code",
   "execution_count": 4,
   "id": "e86992e0",
   "metadata": {
    "execution": {
     "iopub.execute_input": "2021-05-17T10:10:33.985388Z",
     "iopub.status.busy": "2021-05-17T10:10:33.985007Z",
     "iopub.status.idle": "2021-05-17T10:10:33.988638Z",
     "shell.execute_reply": "2021-05-17T10:10:33.988258Z"
    },
    "papermill": {
     "duration": 0.010877,
     "end_time": "2021-05-17T10:10:33.988725",
     "exception": false,
     "start_time": "2021-05-17T10:10:33.977848",
     "status": "completed"
    },
    "tags": []
   },
   "outputs": [
    {
     "name": "stdout",
     "output_type": "stream",
     "text": [
      "data/noaa-weather-data-jfk-airport\n",
      "data/noaa-weather-data-jfk-airport/clean_data.py\n",
      "data/noaa-weather-data-jfk-airport/README.txt\n",
      "data/noaa-weather-data-jfk-airport/jfk_weather_cleaned.csv\n",
      "data/noaa-weather-data-jfk-airport/jfk_weather.csv\n",
      "data/noaa-weather-data-jfk-airport/LICENSE.txt\n"
     ]
    }
   ],
   "source": [
    "for entry in glob.glob(data_dir_name + \"/**/*\", recursive=True):\n",
    "    print(entry)"
   ]
  },
  {
   "cell_type": "markdown",
   "id": "f1c619c6",
   "metadata": {
    "papermill": {
     "duration": 0.004705,
     "end_time": "2021-05-17T10:10:33.998072",
     "exception": false,
     "start_time": "2021-05-17T10:10:33.993367",
     "status": "completed"
    },
    "tags": []
   },
   "source": [
    "A notebook can produce output that is visualized in the Kubeflow Pipelines UI. For illustrative purposes we log the data set download URL. Refer to the [documentation](https://elyra.readthedocs.io/en/latest/recipes/visualizing-output-in-the-kfp-ui.html) to learn about supported visualization types and additional examples."
   ]
  },
  {
   "cell_type": "code",
   "execution_count": 5,
   "id": "75e019ab",
   "metadata": {
    "execution": {
     "iopub.execute_input": "2021-05-17T10:10:34.010287Z",
     "iopub.status.busy": "2021-05-17T10:10:34.009908Z",
     "iopub.status.idle": "2021-05-17T10:10:34.012306Z",
     "shell.execute_reply": "2021-05-17T10:10:34.012611Z"
    },
    "papermill": {
     "duration": 0.010065,
     "end_time": "2021-05-17T10:10:34.012716",
     "exception": false,
     "start_time": "2021-05-17T10:10:34.002651",
     "status": "completed"
    },
    "tags": []
   },
   "outputs": [],
   "source": [
    "metadata = {\n",
    "    'outputs': [\n",
    "     {\n",
    "       'storage': 'inline',\n",
    "       'source': '# Data archive URL: {}'\n",
    "                 .format(data_file),\n",
    "       'type': 'markdown',\n",
    "     }]\n",
    "  }\n",
    "\n",
    "with open('mlpipeline-ui-metadata.json', 'w') as f:\n",
    "    json.dump(metadata, f)"
   ]
  }
 ],
 "metadata": {
  "kernelspec": {
   "display_name": "Python 3",
   "language": "python",
   "name": "python3"
  },
  "language_info": {
   "codemirror_mode": {
    "name": "ipython",
    "version": 3
   },
   "file_extension": ".py",
   "mimetype": "text/x-python",
   "name": "python",
   "nbconvert_exporter": "python",
   "pygments_lexer": "ipython3",
   "version": "3.8.6"
  },
  "papermill": {
   "duration": 9.171091,
   "end_time": "2021-05-17T10:10:34.223512",
   "environment_variables": {},
   "exception": null,
   "input_path": "/home/jovyan/work/examples/pipelines/hello_world_kubeflow_pipelines/load_data.ipynb",
   "output_path": "/home/jovyan/work/examples/pipelines/hello_world_kubeflow_pipelines/load_data.ipynb",
   "parameters": {},
   "start_time": "2021-05-17T10:10:25.052421",
   "version": "2.1.1"
  }
 },
 "nbformat": 4,
 "nbformat_minor": 5
}
